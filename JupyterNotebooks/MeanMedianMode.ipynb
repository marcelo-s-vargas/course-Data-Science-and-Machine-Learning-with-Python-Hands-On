{
 "cells": [
  {
   "cell_type": "markdown",
   "metadata": {},
   "source": [
    "# Mean, Median, Mode, and introducing NumPy"
   ]
  },
  {
   "cell_type": "markdown",
   "metadata": {},
   "source": [
    "## Mean vs. Median"
   ]
  },
  {
   "cell_type": "markdown",
   "metadata": {},
   "source": [
    "Let's create some fake income data, centered around 27,000 with a normal distribution and standard deviation of 15,000, with 10,000 data points. (We'll discuss those terms more later, if you're not familiar with them.)\n",
    "\n",
    "Then, compute the mean (average) - it should be close to 27,000:"
   ]
  },
  {
   "cell_type": "code",
   "execution_count": 1,
   "metadata": {},
   "outputs": [
    {
     "data": {
      "text/plain": [
       "27016.729991506338"
      ]
     },
     "execution_count": 1,
     "metadata": {},
     "output_type": "execute_result"
    }
   ],
   "source": [
    "import numpy as np\n",
    "\n",
    "incomes = np.random.normal(27000, 15000, 10000)\n",
    "np.mean(incomes)"
   ]
  },
  {
   "cell_type": "markdown",
   "metadata": {},
   "source": [
    "We can segment the income data into 50 buckets, and plot it as a histogram:"
   ]
  },
  {
   "cell_type": "code",
   "execution_count": 2,
   "metadata": {},
   "outputs": [
    {
     "data": {
      "image/png": "[encoded data removed]",
      "text/plain": [
       "<Figure size 640x480 with 1 Axes>"
      ]
     },
     "metadata": {},
     "output_type": "display_data"
    }
   ],
   "source": [
    "%matplotlib inline\n",
    "import matplotlib.pyplot as plt\n",
    "plt.hist(incomes, 50)\n",
    "plt.show()"
   ]
  },
  {
   "cell_type": "markdown",
   "metadata": {},
   "source": [
    "Now compute the median - since we have a nice, even distribution it too should be close to 27,000:"
   ]
  },
  {
   "cell_type": "code",
   "execution_count": 3,
   "metadata": {},
   "outputs": [
    {
     "data": {
      "text/plain": [
       "26990.085101321194"
      ]
     },
     "execution_count": 3,
     "metadata": {},
     "output_type": "execute_result"
    }
   ],
   "source": [
    "np.median(incomes)"
   ]
  },
  {
   "cell_type": "markdown",
   "metadata": {},
   "source": [
    "Now we'll add Jeff Bezos into the mix. Darn income inequality!"
   ]
  },
  {
   "cell_type": "code",
   "execution_count": 4,
   "metadata": {},
   "outputs": [],
   "source": [
    "incomes = np.append(incomes, [1000000000])"
   ]
  },
  {
   "cell_type": "markdown",
   "metadata": {},
   "source": [
    "The median won't change much, but the mean does:"
   ]
  },
  {
   "cell_type": "code",
   "execution_count": 5,
   "metadata": {},
   "outputs": [
    {
     "data": {
      "text/plain": [
       "26993.622049298578"
      ]
     },
     "execution_count": 5,
     "metadata": {},
     "output_type": "execute_result"
    }
   ],
   "source": [
    "np.median(incomes)"
   ]
  },
  {
   "cell_type": "code",
   "execution_count": 6,
   "metadata": {},
   "outputs": [
    {
     "data": {
      "text/plain": [
       "127004.02958854748"
      ]
     },
     "execution_count": 6,
     "metadata": {},
     "output_type": "execute_result"
    }
   ],
   "source": [
    "np.mean(incomes)"
   ]
  },
  {
   "cell_type": "markdown",
   "metadata": {},
   "source": [
    "## Mode"
   ]
  },
  {
   "cell_type": "markdown",
   "metadata": {},
   "source": [
    "Next, let's generate some fake age data for 500 people:"
   ]
  },
  {
   "cell_type": "code",
   "execution_count": 9,
   "metadata": {},
   "outputs": [
    {
     "data": {
      "text/plain": [
       "array([47, 37, 18, 37, 55, 68, 28, 25, 37, 20, 28, 55, 41, 51, 82, 77, 85,\n",
       "       67, 86, 34, 56, 88, 66, 70, 22, 62, 49, 32, 40, 75, 79, 19, 29, 61,\n",
       "       21, 75, 69, 23, 32, 64, 18, 32, 89, 64, 34, 28, 18, 46, 81, 59, 89,\n",
       "       45, 78, 60, 22, 53, 79, 69, 66, 45, 57, 70, 69, 39, 51, 80, 27, 55,\n",
       "       31, 49, 50, 63, 68, 34, 42, 47, 28, 72, 42, 37, 64, 78, 63, 44, 24,\n",
       "       23, 61, 60, 44, 26, 36, 18, 62, 46, 36, 67, 29, 73, 40, 40, 56, 61,\n",
       "       40, 79, 19, 38, 72, 68, 66, 81, 45, 61, 75, 83, 47, 60, 44, 83, 70,\n",
       "       62, 26, 43, 71, 65, 58, 45, 50, 48, 30, 79, 78, 51, 49, 59, 59, 33,\n",
       "       29, 87, 62, 42, 80, 40, 49, 46, 70, 77, 75, 64, 69, 51, 58, 77, 69,\n",
       "       82, 27, 70, 59, 45, 34, 59, 52, 70, 57, 65, 24, 38, 73, 45, 26, 48,\n",
       "       21, 43, 55, 39, 27, 83, 80, 47, 79, 27, 89, 74, 38, 37, 57, 83, 23,\n",
       "       21, 35, 79, 57, 59, 83, 42, 84, 46, 33, 43, 64, 69, 27, 36, 55, 43,\n",
       "       32, 67, 63, 60, 67, 30, 19, 71, 18, 41, 84, 65, 74, 53, 66, 66, 57,\n",
       "       25, 55, 81, 18, 56, 82, 78, 43, 74, 81, 71, 31, 45, 78, 68, 56, 74,\n",
       "       27, 46, 54, 69, 54, 80, 80, 83, 54, 26, 26, 76, 32, 76, 79, 27, 20,\n",
       "       89, 39, 87, 39, 51, 50, 24, 29, 52, 32, 44, 56, 29, 42, 68, 59, 62,\n",
       "       62, 39, 31, 27, 77, 50, 50, 59, 57, 61, 19, 35, 65, 80, 29, 71, 64,\n",
       "       20, 22, 58, 33, 69, 47, 81, 50, 70, 61, 59, 78, 78, 50, 59, 77, 45,\n",
       "       65, 56, 52, 79, 76, 28, 56, 82, 81, 39, 71, 64, 79, 25, 47, 29, 74,\n",
       "       67, 52, 73, 19, 86, 82, 87, 45, 58, 41, 56, 30, 19, 66, 71, 66, 59,\n",
       "       27, 36, 38, 26, 88, 69, 49, 24, 67, 32, 78, 26, 27, 68, 81, 41, 38,\n",
       "       22, 89, 65, 57, 51, 85, 45, 78, 73, 81, 50, 76, 19, 69, 78, 53, 73,\n",
       "       42, 56, 69, 23, 38, 81, 21, 50, 41, 76, 53, 48, 45, 50, 37, 89, 41,\n",
       "       55, 20, 50, 85, 46, 77, 61, 60, 81, 64, 76, 74, 66, 69, 26, 19, 38,\n",
       "       71, 42, 59, 77, 33, 77, 32, 22, 88, 48, 63, 86, 34, 42, 27, 62, 75,\n",
       "       72, 25, 35, 46, 31, 63, 89, 73, 76, 81, 54, 28, 89, 74, 80, 46, 83,\n",
       "       77, 36, 48, 39, 79, 41, 81, 54, 18, 81, 88, 43, 45, 63, 18, 29, 56,\n",
       "       42, 56, 84, 52, 33, 37, 19, 70, 52, 60, 61, 86, 60, 51, 76, 82, 74,\n",
       "       37, 57, 47, 63, 57, 57, 86, 42, 81, 78, 56, 55, 34, 34, 21, 84, 86,\n",
       "       77, 77, 87, 40, 64, 58, 40])"
      ]
     },
     "execution_count": 9,
     "metadata": {},
     "output_type": "execute_result"
    }
   ],
   "source": [
    "ages = np.random.randint(18, high=90, size=500)\n",
    "ages"
   ]
  },
  {
   "cell_type": "code",
   "execution_count": 10,
   "metadata": {},
   "outputs": [
    {
     "name": "stderr",
     "output_type": "stream",
     "text": [
      "/tmp/ipykernel_6814/2994774060.py:2: FutureWarning: Unlike other reduction functions (e.g. `skew`, `kurtosis`), the default behavior of `mode` typically preserves the axis it acts along. In SciPy 1.11.0, this behavior will change: the default value of `keepdims` will become False, the `axis` over which the statistic is taken will be eliminated, and the value None will no longer be accepted. Set `keepdims` to True or False to avoid this warning.\n",
      "  stats.mode(ages)\n"
     ]
    },
    {
     "data": {
      "text/plain": [
       "ModeResult(mode=array([81]), count=array([14]))"
      ]
     },
     "execution_count": 10,
     "metadata": {},
     "output_type": "execute_result"
    }
   ],
   "source": [
    "from scipy import stats\n",
    "stats.mode(ages)"
   ]
  },
  {
   "cell_type": "code",
   "execution_count": null,
   "metadata": {},
   "outputs": [],
   "source": []
  }
 ],
 "metadata": {
  "kernelspec": {
   "display_name": "Python 3 (ipykernel)",
   "language": "python",
   "name": "python3"
  },
  "language_info": {
   "codemirror_mode": {
    "name": "ipython",
    "version": 3
   },
   "file_extension": ".py",
   "mimetype": "text/x-python",
   "name": "python",
   "nbconvert_exporter": "python",
   "pygments_lexer": "ipython3",
   "version": "3.10.8"
  }
 },
 "nbformat": 4,
 "nbformat_minor": 4
}
